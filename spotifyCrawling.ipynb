{
 "cells": [
  {
   "cell_type": "code",
   "execution_count": null,
   "metadata": {},
   "outputs": [],
   "source": [
    "pip install spotipy\n"
   ]
  },
  {
   "cell_type": "code",
   "execution_count": null,
   "metadata": {},
   "outputs": [],
   "source": [
    "import spotipy\n",
    "from spotipy.oauth2 import SpotifyClientCredentials\n",
    "import pprint\n",
    "\n",
    "cid = '18cdef91f9364a598c79c8ef4c462ec6'\n",
    "secret = 'ebc03782bb704874938494926ed0fc05'\n",
    "client_credentials_manager = SpotifyClientCredentials(client_id = cid, client_secret = secret)\n",
    "sp = spotipy.Spotify(client_credentials_manager = client_credentials_manager)\n",
    "print(sp.current_user())"
   ]
  },
  {
   "cell_type": "code",
   "execution_count": null,
   "metadata": {},
   "outputs": [],
   "source": [
    "help(sp.current_user)"
   ]
  },
  {
   "cell_type": "code",
   "execution_count": null,
   "metadata": {},
   "outputs": [],
   "source": [
    "help(SpotifyOAuth)"
   ]
  },
  {
   "cell_type": "code",
   "execution_count": 111,
   "metadata": {},
   "outputs": [
    {
     "name": "stdout",
     "output_type": "stream",
     "text": [
      "Dillis\n",
      "[{'danceability': 0.734, 'energy': 0.649, 'key': 7, 'loudness': -4.346, 'mode': 0, 'speechiness': 0.128, 'acousticness': 0.286, 'instrumentalness': 5.37e-06, 'liveness': 0.0923, 'valence': 0.378, 'tempo': 124.987, 'type': 'audio_features', 'id': '1sEO3COhUlmYx3e4W6wnND', 'uri': 'spotify:track:1sEO3COhUlmYx3e4W6wnND', 'track_href': 'https://api.spotify.com/v1/tracks/1sEO3COhUlmYx3e4W6wnND', 'analysis_url': 'https://api.spotify.com/v1/audio-analysis/1sEO3COhUlmYx3e4W6wnND', 'duration_ms': 123120, 'time_signature': 4}]\n",
      "Just Like This (Feat. george)\n",
      "[{'danceability': 0.701, 'energy': 0.602, 'key': 8, 'loudness': -6.83, 'mode': 1, 'speechiness': 0.031, 'acousticness': 0.63, 'instrumentalness': 0, 'liveness': 0.154, 'valence': 0.708, 'tempo': 137.021, 'type': 'audio_features', 'id': '47NJQJ5IJiNhSWbE6Ahytx', 'uri': 'spotify:track:47NJQJ5IJiNhSWbE6Ahytx', 'track_href': 'https://api.spotify.com/v1/tracks/47NJQJ5IJiNhSWbE6Ahytx', 'analysis_url': 'https://api.spotify.com/v1/audio-analysis/47NJQJ5IJiNhSWbE6Ahytx', 'duration_ms': 200147, 'time_signature': 4}]\n",
      "The last dance\n",
      "[{'danceability': 0.712, 'energy': 0.255, 'key': 5, 'loudness': -8.8, 'mode': 1, 'speechiness': 0.0373, 'acousticness': 0.955, 'instrumentalness': 3.51e-06, 'liveness': 0.108, 'valence': 0.37, 'tempo': 125.973, 'type': 'audio_features', 'id': '47G315NBohskHKwuyGW2wT', 'uri': 'spotify:track:47G315NBohskHKwuyGW2wT', 'track_href': 'https://api.spotify.com/v1/tracks/47G315NBohskHKwuyGW2wT', 'analysis_url': 'https://api.spotify.com/v1/audio-analysis/47G315NBohskHKwuyGW2wT', 'duration_ms': 190507, 'time_signature': 4}]\n",
      "NOSAE NOSAE\n",
      "[{'danceability': 0.822, 'energy': 0.781, 'key': 0, 'loudness': -5.27, 'mode': 1, 'speechiness': 0.0338, 'acousticness': 0.0188, 'instrumentalness': 0, 'liveness': 0.0943, 'valence': 0.717, 'tempo': 127.028, 'type': 'audio_features', 'id': '2SBnYX6QFYotZEeVgxr0nv', 'uri': 'spotify:track:2SBnYX6QFYotZEeVgxr0nv', 'track_href': 'https://api.spotify.com/v1/tracks/2SBnYX6QFYotZEeVgxr0nv', 'analysis_url': 'https://api.spotify.com/v1/audio-analysis/2SBnYX6QFYotZEeVgxr0nv', 'duration_ms': 168280, 'time_signature': 4}]\n",
      "D (Half Moon)\n",
      "[{'danceability': 0.512, 'energy': 0.765, 'key': 7, 'loudness': -5.252, 'mode': 1, 'speechiness': 0.136, 'acousticness': 0.246, 'instrumentalness': 0, 'liveness': 0.0573, 'valence': 0.519, 'tempo': 169.709, 'type': 'audio_features', 'id': '3uA8SjMyDtwtt0jLPMQbVD', 'uri': 'spotify:track:3uA8SjMyDtwtt0jLPMQbVD', 'track_href': 'https://api.spotify.com/v1/tracks/3uA8SjMyDtwtt0jLPMQbVD', 'analysis_url': 'https://api.spotify.com/v1/audio-analysis/3uA8SjMyDtwtt0jLPMQbVD', 'duration_ms': 229360, 'time_signature': 4}]\n",
      "Love of My Life\n",
      "[{'danceability': 0.523, 'energy': 0.539, 'key': 6, 'loudness': -7.772, 'mode': 1, 'speechiness': 0.0534, 'acousticness': 0.532, 'instrumentalness': 0, 'liveness': 0.224, 'valence': 0.355, 'tempo': 75.04, 'type': 'audio_features', 'id': '7kjOgSX06thEls4nAIc9Wd', 'uri': 'spotify:track:7kjOgSX06thEls4nAIc9Wd', 'track_href': 'https://api.spotify.com/v1/tracks/7kjOgSX06thEls4nAIc9Wd', 'analysis_url': 'https://api.spotify.com/v1/audio-analysis/7kjOgSX06thEls4nAIc9Wd', 'duration_ms': 181080, 'time_signature': 4}]\n",
      "Breaking Bad\n",
      "[{'danceability': 0.759, 'energy': 0.498, 'key': 2, 'loudness': -6.566, 'mode': 0, 'speechiness': 0.0353, 'acousticness': 0.35, 'instrumentalness': 0.00014, 'liveness': 0.103, 'valence': 0.487, 'tempo': 129.968, 'type': 'audio_features', 'id': '6e43u9rHW9xN9GRtmjRKXZ', 'uri': 'spotify:track:6e43u9rHW9xN9GRtmjRKXZ', 'track_href': 'https://api.spotify.com/v1/tracks/6e43u9rHW9xN9GRtmjRKXZ', 'analysis_url': 'https://api.spotify.com/v1/audio-analysis/6e43u9rHW9xN9GRtmjRKXZ', 'duration_ms': 163907, 'time_signature': 4}]\n",
      "NOT OK (Feat. MINNIE)\n",
      "[{'danceability': 0.752, 'energy': 0.57, 'key': 4, 'loudness': -8.034, 'mode': 1, 'speechiness': 0.0488, 'acousticness': 0.338, 'instrumentalness': 0, 'liveness': 0.293, 'valence': 0.41, 'tempo': 133.018, 'type': 'audio_features', 'id': '0tSDqQOK8EgoRxYXWkP5rR', 'uri': 'spotify:track:0tSDqQOK8EgoRxYXWkP5rR', 'track_href': 'https://api.spotify.com/v1/tracks/0tSDqQOK8EgoRxYXWkP5rR', 'analysis_url': 'https://api.spotify.com/v1/audio-analysis/0tSDqQOK8EgoRxYXWkP5rR', 'duration_ms': 197292, 'time_signature': 4}]\n",
      "A doll's dream\n",
      "[{'danceability': 0.665, 'energy': 0.185, 'key': 0, 'loudness': -11.61, 'mode': 1, 'speechiness': 0.0463, 'acousticness': 0.874, 'instrumentalness': 0, 'liveness': 0.326, 'valence': 0.327, 'tempo': 123.623, 'type': 'audio_features', 'id': '5bgUucoFyG1rjzWdiw2L6C', 'uri': 'spotify:track:5bgUucoFyG1rjzWdiw2L6C', 'track_href': 'https://api.spotify.com/v1/tracks/5bgUucoFyG1rjzWdiw2L6C', 'analysis_url': 'https://api.spotify.com/v1/audio-analysis/5bgUucoFyG1rjzWdiw2L6C', 'duration_ms': 157387, 'time_signature': 4}]\n",
      "D.I.E\n",
      "[{'danceability': 0.62, 'energy': 0.783, 'key': 7, 'loudness': -4.001, 'mode': 0, 'speechiness': 0.0731, 'acousticness': 0.101, 'instrumentalness': 0, 'liveness': 0.252, 'valence': 0.298, 'tempo': 140.02, 'type': 'audio_features', 'id': '6bnF4DJueYGTWGac5Nfq8q', 'uri': 'spotify:track:6bnF4DJueYGTWGac5Nfq8q', 'track_href': 'https://api.spotify.com/v1/tracks/6bnF4DJueYGTWGac5Nfq8q', 'analysis_url': 'https://api.spotify.com/v1/audio-analysis/6bnF4DJueYGTWGac5Nfq8q', 'duration_ms': 223173, 'time_signature': 4}]\n",
      "Good Parts (when the quality is bad but I am)\n",
      "[{'danceability': 0.785, 'energy': 0.679, 'key': 0, 'loudness': -4.907, 'mode': 1, 'speechiness': 0.0379, 'acousticness': 0.516, 'instrumentalness': 0, 'liveness': 0.417, 'valence': 0.616, 'tempo': 121.121, 'type': 'audio_features', 'id': '1sZBzYhrQG40zcSuKkI93c', 'uri': 'spotify:track:1sZBzYhrQG40zcSuKkI93c', 'track_href': 'https://api.spotify.com/v1/tracks/1sZBzYhrQG40zcSuKkI93c', 'analysis_url': 'https://api.spotify.com/v1/audio-analysis/1sZBzYhrQG40zcSuKkI93c', 'duration_ms': 156355, 'time_signature': 4}]\n",
      "하루살이\n",
      "[{'danceability': 0.726, 'energy': 0.492, 'key': 10, 'loudness': -8.046, 'mode': 0, 'speechiness': 0.0794, 'acousticness': 0.566, 'instrumentalness': 8.14e-06, 'liveness': 0.257, 'valence': 0.526, 'tempo': 85.939, 'type': 'audio_features', 'id': '0LP5d4Cx4pmSAP6VypZdDz', 'uri': 'spotify:track:0LP5d4Cx4pmSAP6VypZdDz', 'track_href': 'https://api.spotify.com/v1/tracks/0LP5d4Cx4pmSAP6VypZdDz', 'analysis_url': 'https://api.spotify.com/v1/audio-analysis/0LP5d4Cx4pmSAP6VypZdDz', 'duration_ms': 207113, 'time_signature': 4}]\n",
      "Valentine\n",
      "[{'danceability': 0.629, 'energy': 0.41, 'key': 11, 'loudness': -7.606, 'mode': 0, 'speechiness': 0.286, 'acousticness': 0.22, 'instrumentalness': 0.00318, 'liveness': 0.144, 'valence': 0.907, 'tempo': 79.936, 'type': 'audio_features', 'id': '3lgIAJyBSEF48IlcZ9ShnO', 'uri': 'spotify:track:3lgIAJyBSEF48IlcZ9ShnO', 'track_href': 'https://api.spotify.com/v1/tracks/3lgIAJyBSEF48IlcZ9ShnO', 'analysis_url': 'https://api.spotify.com/v1/audio-analysis/3lgIAJyBSEF48IlcZ9ShnO', 'duration_ms': 160150, 'time_signature': 4}]\n",
      "PIKPIK\n",
      "[{'danceability': 0.651, 'energy': 0.332, 'key': 3, 'loudness': -9.491, 'mode': 1, 'speechiness': 0.0815, 'acousticness': 0.9, 'instrumentalness': 0, 'liveness': 0.377, 'valence': 0.465, 'tempo': 82.896, 'type': 'audio_features', 'id': '7B79L66MsXNrJPaIlRu7hS', 'uri': 'spotify:track:7B79L66MsXNrJPaIlRu7hS', 'track_href': 'https://api.spotify.com/v1/tracks/7B79L66MsXNrJPaIlRu7hS', 'analysis_url': 'https://api.spotify.com/v1/audio-analysis/7B79L66MsXNrJPaIlRu7hS', 'duration_ms': 187439, 'time_signature': 4}]\n",
      "CUZ OF U\n",
      "[{'danceability': 0.683, 'energy': 0.714, 'key': 0, 'loudness': -4.94, 'mode': 1, 'speechiness': 0.0686, 'acousticness': 0.168, 'instrumentalness': 2.56e-05, 'liveness': 0.121, 'valence': 0.661, 'tempo': 140.075, 'type': 'audio_features', 'id': '1SV2m5ztmHmn6FeZrGSjUC', 'uri': 'spotify:track:1SV2m5ztmHmn6FeZrGSjUC', 'track_href': 'https://api.spotify.com/v1/tracks/1SV2m5ztmHmn6FeZrGSjUC', 'analysis_url': 'https://api.spotify.com/v1/audio-analysis/1SV2m5ztmHmn6FeZrGSjUC', 'duration_ms': 126947, 'time_signature': 4}]\n",
      "Chedda Game\n",
      "[{'danceability': 0.767, 'energy': 0.779, 'key': 1, 'loudness': -4.483, 'mode': 1, 'speechiness': 0.0791, 'acousticness': 0.0321, 'instrumentalness': 0, 'liveness': 0.287, 'valence': 0.482, 'tempo': 140.089, 'type': 'audio_features', 'id': '00Ny4RDxaC5Xm6cSfri7rl', 'uri': 'spotify:track:00Ny4RDxaC5Xm6cSfri7rl', 'track_href': 'https://api.spotify.com/v1/tracks/00Ny4RDxaC5Xm6cSfri7rl', 'analysis_url': 'https://api.spotify.com/v1/audio-analysis/00Ny4RDxaC5Xm6cSfri7rl', 'duration_ms': 196133, 'time_signature': 4}]\n",
      "LILAC\n",
      "[{'danceability': 0.738, 'energy': 0.89, 'key': 2, 'loudness': -2.275, 'mode': 0, 'speechiness': 0.0748, 'acousticness': 0.0895, 'instrumentalness': 1.89e-06, 'liveness': 0.213, 'valence': 0.75, 'tempo': 114.942, 'type': 'audio_features', 'id': '5xrtzzzikpG3BLbo4q1Yul', 'uri': 'spotify:track:5xrtzzzikpG3BLbo4q1Yul', 'track_href': 'https://api.spotify.com/v1/tracks/5xrtzzzikpG3BLbo4q1Yul', 'analysis_url': 'https://api.spotify.com/v1/audio-analysis/5xrtzzzikpG3BLbo4q1Yul', 'duration_ms': 214253, 'time_signature': 4}]\n",
      "camping everywhere\n",
      "[{'danceability': 0.748, 'energy': 0.511, 'key': 11, 'loudness': -4.791, 'mode': 0, 'speechiness': 0.0768, 'acousticness': 0.442, 'instrumentalness': 2.15e-06, 'liveness': 0.108, 'valence': 0.476, 'tempo': 88.012, 'type': 'audio_features', 'id': '2jtUeOhBKxWqYVTmLvJBzW', 'uri': 'spotify:track:2jtUeOhBKxWqYVTmLvJBzW', 'track_href': 'https://api.spotify.com/v1/tracks/2jtUeOhBKxWqYVTmLvJBzW', 'analysis_url': 'https://api.spotify.com/v1/audio-analysis/2jtUeOhBKxWqYVTmLvJBzW', 'duration_ms': 177465, 'time_signature': 4}]\n",
      "Dream Team\n",
      "[{'danceability': 0.669, 'energy': 0.71, 'key': 2, 'loudness': -2.337, 'mode': 1, 'speechiness': 0.0396, 'acousticness': 0.0294, 'instrumentalness': 0, 'liveness': 0.322, 'valence': 0.161, 'tempo': 82.009, 'type': 'audio_features', 'id': '2z0FRDQnEjxTpMBZT89hkP', 'uri': 'spotify:track:2z0FRDQnEjxTpMBZT89hkP', 'track_href': 'https://api.spotify.com/v1/tracks/2z0FRDQnEjxTpMBZT89hkP', 'analysis_url': 'https://api.spotify.com/v1/audio-analysis/2z0FRDQnEjxTpMBZT89hkP', 'duration_ms': 176539, 'time_signature': 4}]\n",
      "Love wins all\n",
      "[{'danceability': 0.496, 'energy': 0.447, 'key': 0, 'loudness': -5.878, 'mode': 1, 'speechiness': 0.0317, 'acousticness': 0.82, 'instrumentalness': 0, 'liveness': 0.098, 'valence': 0.315, 'tempo': 101.132, 'type': 'audio_features', 'id': '0djkJ3iAARXRCbfbwwVc3o', 'uri': 'spotify:track:0djkJ3iAARXRCbfbwwVc3o', 'track_href': 'https://api.spotify.com/v1/tracks/0djkJ3iAARXRCbfbwwVc3o', 'analysis_url': 'https://api.spotify.com/v1/audio-analysis/0djkJ3iAARXRCbfbwwVc3o', 'duration_ms': 271080, 'time_signature': 4}]\n",
      "좋다고 말해\n",
      "[{'danceability': 0.68, 'energy': 0.623, 'key': 1, 'loudness': -2.695, 'mode': 1, 'speechiness': 0.0467, 'acousticness': 0.825, 'instrumentalness': 0, 'liveness': 0.128, 'valence': 0.428, 'tempo': 79.968, 'type': 'audio_features', 'id': '5xuVcWfj8QTeRLRSKyQOyi', 'uri': 'spotify:track:5xuVcWfj8QTeRLRSKyQOyi', 'track_href': 'https://api.spotify.com/v1/tracks/5xuVcWfj8QTeRLRSKyQOyi', 'analysis_url': 'https://api.spotify.com/v1/audio-analysis/5xuVcWfj8QTeRLRSKyQOyi', 'duration_ms': 201772, 'time_signature': 4}]\n",
      "SKYBLUE\n",
      "[{'danceability': 0.684, 'energy': 0.693, 'key': 1, 'loudness': -5.481, 'mode': 1, 'speechiness': 0.154, 'acousticness': 0.255, 'instrumentalness': 0, 'liveness': 0.267, 'valence': 0.55, 'tempo': 82.503, 'type': 'audio_features', 'id': '4LzOCAGUJd4muenAKbzF79', 'uri': 'spotify:track:4LzOCAGUJd4muenAKbzF79', 'track_href': 'https://api.spotify.com/v1/tracks/4LzOCAGUJd4muenAKbzF79', 'analysis_url': 'https://api.spotify.com/v1/audio-analysis/4LzOCAGUJd4muenAKbzF79', 'duration_ms': 203267, 'time_signature': 4}]\n",
      "Better (Feat. GIRIBOY)\n",
      "[{'danceability': 0.729, 'energy': 0.541, 'key': 5, 'loudness': -6.091, 'mode': 1, 'speechiness': 0.238, 'acousticness': 0.261, 'instrumentalness': 0, 'liveness': 0.456, 'valence': 0.715, 'tempo': 86.917, 'type': 'audio_features', 'id': '5KsRUrXIMDiWyrgNjlmTVc', 'uri': 'spotify:track:5KsRUrXIMDiWyrgNjlmTVc', 'track_href': 'https://api.spotify.com/v1/tracks/5KsRUrXIMDiWyrgNjlmTVc', 'analysis_url': 'https://api.spotify.com/v1/audio-analysis/5KsRUrXIMDiWyrgNjlmTVc', 'duration_ms': 180500, 'time_signature': 4}]\n",
      "Eat\n",
      "[{'danceability': 0.662, 'energy': 0.293, 'key': 4, 'loudness': -11.311, 'mode': 1, 'speechiness': 0.124, 'acousticness': 0.494, 'instrumentalness': 5.16e-06, 'liveness': 0.109, 'valence': 0.297, 'tempo': 91.154, 'type': 'audio_features', 'id': '09Nhl3YQnChjlq8WmJz7FS', 'uri': 'spotify:track:09Nhl3YQnChjlq8WmJz7FS', 'track_href': 'https://api.spotify.com/v1/tracks/09Nhl3YQnChjlq8WmJz7FS', 'analysis_url': 'https://api.spotify.com/v1/audio-analysis/09Nhl3YQnChjlq8WmJz7FS', 'duration_ms': 161618, 'time_signature': 4}]\n",
      "Why (Feat. Hoody)\n",
      "[{'danceability': 0.779, 'energy': 0.392, 'key': 4, 'loudness': -4.135, 'mode': 1, 'speechiness': 0.0482, 'acousticness': 0.658, 'instrumentalness': 0, 'liveness': 0.0958, 'valence': 0.708, 'tempo': 89.929, 'type': 'audio_features', 'id': '0cIEQ9hmlk2qJFvjZGgS82', 'uri': 'spotify:track:0cIEQ9hmlk2qJFvjZGgS82', 'track_href': 'https://api.spotify.com/v1/tracks/0cIEQ9hmlk2qJFvjZGgS82', 'analysis_url': 'https://api.spotify.com/v1/audio-analysis/0cIEQ9hmlk2qJFvjZGgS82', 'duration_ms': 140867, 'time_signature': 4}]\n",
      "Whatever for u\n",
      "[{'danceability': 0.62, 'energy': 0.616, 'key': 4, 'loudness': -5.623, 'mode': 0, 'speechiness': 0.103, 'acousticness': 0.493, 'instrumentalness': 0, 'liveness': 0.133, 'valence': 0.468, 'tempo': 84.993, 'type': 'audio_features', 'id': '2SPimOLQV6DBRiCA3IQ1sY', 'uri': 'spotify:track:2SPimOLQV6DBRiCA3IQ1sY', 'track_href': 'https://api.spotify.com/v1/tracks/2SPimOLQV6DBRiCA3IQ1sY', 'analysis_url': 'https://api.spotify.com/v1/audio-analysis/2SPimOLQV6DBRiCA3IQ1sY', 'duration_ms': 176747, 'time_signature': 4}]\n",
      "SMILE (Feat. Boi B) (Prod. WOOGIE)\n",
      "[{'danceability': 0.675, 'energy': 0.351, 'key': 7, 'loudness': -7.19, 'mode': 1, 'speechiness': 0.154, 'acousticness': 0.715, 'instrumentalness': 0, 'liveness': 0.146, 'valence': 0.199, 'tempo': 60.125, 'type': 'audio_features', 'id': '6H2Q8eYWmdNguNObYKIbrD', 'uri': 'spotify:track:6H2Q8eYWmdNguNObYKIbrD', 'track_href': 'https://api.spotify.com/v1/tracks/6H2Q8eYWmdNguNObYKIbrD', 'analysis_url': 'https://api.spotify.com/v1/audio-analysis/6H2Q8eYWmdNguNObYKIbrD', 'duration_ms': 258000, 'time_signature': 4}]\n",
      "Vancouver\n",
      "[{'danceability': 0.622, 'energy': 0.604, 'key': 6, 'loudness': -6.731, 'mode': 1, 'speechiness': 0.145, 'acousticness': 0.419, 'instrumentalness': 0, 'liveness': 0.122, 'valence': 0.698, 'tempo': 89.483, 'type': 'audio_features', 'id': '4p4yxplNCSmt9xfaAMpcd5', 'uri': 'spotify:track:4p4yxplNCSmt9xfaAMpcd5', 'track_href': 'https://api.spotify.com/v1/tracks/4p4yxplNCSmt9xfaAMpcd5', 'analysis_url': 'https://api.spotify.com/v1/audio-analysis/4p4yxplNCSmt9xfaAMpcd5', 'duration_ms': 216280, 'time_signature': 4}]\n",
      "Drivin’ (Feat. Layone, BIG Naughty)\n",
      "[{'danceability': 0.844, 'energy': 0.734, 'key': 8, 'loudness': -5.213, 'mode': 1, 'speechiness': 0.205, 'acousticness': 0.0297, 'instrumentalness': 0, 'liveness': 0.034, 'valence': 0.444, 'tempo': 109.994, 'type': 'audio_features', 'id': '1x8waytyN4BfxrkuoQsBRT', 'uri': 'spotify:track:1x8waytyN4BfxrkuoQsBRT', 'track_href': 'https://api.spotify.com/v1/tracks/1x8waytyN4BfxrkuoQsBRT', 'analysis_url': 'https://api.spotify.com/v1/audio-analysis/1x8waytyN4BfxrkuoQsBRT', 'duration_ms': 162587, 'time_signature': 4}]\n",
      "We're Already\n",
      "[{'danceability': 0.406, 'energy': 0.492, 'key': 4, 'loudness': -6.837, 'mode': 1, 'speechiness': 0.0303, 'acousticness': 0.671, 'instrumentalness': 0, 'liveness': 0.0992, 'valence': 0.279, 'tempo': 91.241, 'type': 'audio_features', 'id': '1kuML8BXbxGjfxQ1FkJPwI', 'uri': 'spotify:track:1kuML8BXbxGjfxQ1FkJPwI', 'track_href': 'https://api.spotify.com/v1/tracks/1kuML8BXbxGjfxQ1FkJPwI', 'analysis_url': 'https://api.spotify.com/v1/audio-analysis/1kuML8BXbxGjfxQ1FkJPwI', 'duration_ms': 238267, 'time_signature': 4}]\n",
      "If I have you only (My love X Nerd Connection)\n",
      "[{'danceability': 0.54, 'energy': 0.353, 'key': 9, 'loudness': -5.224, 'mode': 1, 'speechiness': 0.0258, 'acousticness': 0.332, 'instrumentalness': 0, 'liveness': 0.145, 'valence': 0.137, 'tempo': 137.859, 'type': 'audio_features', 'id': '3TQHPUEVdvdq8ejwEcHUlL', 'uri': 'spotify:track:3TQHPUEVdvdq8ejwEcHUlL', 'track_href': 'https://api.spotify.com/v1/tracks/3TQHPUEVdvdq8ejwEcHUlL', 'analysis_url': 'https://api.spotify.com/v1/audio-analysis/3TQHPUEVdvdq8ejwEcHUlL', 'duration_ms': 250573, 'time_signature': 4}]\n",
      "Time limit (Feat. Leellamarz, Loco)\n",
      "[{'danceability': 0.677, 'energy': 0.479, 'key': 5, 'loudness': -8.638, 'mode': 0, 'speechiness': 0.0398, 'acousticness': 0.566, 'instrumentalness': 0, 'liveness': 0.118, 'valence': 0.443, 'tempo': 109.888, 'type': 'audio_features', 'id': '1jQg7ImfH2OVpp9lu9mOj0', 'uri': 'spotify:track:1jQg7ImfH2OVpp9lu9mOj0', 'track_href': 'https://api.spotify.com/v1/tracks/1jQg7ImfH2OVpp9lu9mOj0', 'analysis_url': 'https://api.spotify.com/v1/audio-analysis/1jQg7ImfH2OVpp9lu9mOj0', 'duration_ms': 229576, 'time_signature': 4}]\n",
      "Hopeless Romantic (Feat. LEE SUHYUN)\n",
      "[{'danceability': 0.508, 'energy': 0.302, 'key': 0, 'loudness': -9.103, 'mode': 1, 'speechiness': 0.0379, 'acousticness': 0.813, 'instrumentalness': 1.09e-06, 'liveness': 0.109, 'valence': 0.255, 'tempo': 126.799, 'type': 'audio_features', 'id': '0LY4jOJChwNOYUp2dTNEss', 'uri': 'spotify:track:0LY4jOJChwNOYUp2dTNEss', 'track_href': 'https://api.spotify.com/v1/tracks/0LY4jOJChwNOYUp2dTNEss', 'analysis_url': 'https://api.spotify.com/v1/audio-analysis/0LY4jOJChwNOYUp2dTNEss', 'duration_ms': 235920, 'time_signature': 4}]\n",
      "I Need You (Prod. By VAN.C)\n",
      "[{'danceability': 0.652, 'energy': 0.77, 'key': 11, 'loudness': -5.289, 'mode': 1, 'speechiness': 0.167, 'acousticness': 0.468, 'instrumentalness': 0, 'liveness': 0.318, 'valence': 0.78, 'tempo': 142.896, 'type': 'audio_features', 'id': '1ee336VqMtJzZzZKRqNXAK', 'uri': 'spotify:track:1ee336VqMtJzZzZKRqNXAK', 'track_href': 'https://api.spotify.com/v1/tracks/1ee336VqMtJzZzZKRqNXAK', 'analysis_url': 'https://api.spotify.com/v1/audio-analysis/1ee336VqMtJzZzZKRqNXAK', 'duration_ms': 230769, 'time_signature': 4}]\n",
      "Understand\n",
      "[{'danceability': 0.587, 'energy': 0.506, 'key': 10, 'loudness': -7.694, 'mode': 0, 'speechiness': 0.15, 'acousticness': 0.188, 'instrumentalness': 0, 'liveness': 0.0611, 'valence': 0.459, 'tempo': 169.971, 'type': 'audio_features', 'id': '0gVqDsMxAOREJ6WcdOuVHk', 'uri': 'spotify:track:0gVqDsMxAOREJ6WcdOuVHk', 'track_href': 'https://api.spotify.com/v1/tracks/0gVqDsMxAOREJ6WcdOuVHk', 'analysis_url': 'https://api.spotify.com/v1/audio-analysis/0gVqDsMxAOREJ6WcdOuVHk', 'duration_ms': 160105, 'time_signature': 4}]\n",
      "you won't be there for me\n",
      "[{'danceability': 0.779, 'energy': 0.298, 'key': 2, 'loudness': -6.462, 'mode': 0, 'speechiness': 0.0312, 'acousticness': 0.221, 'instrumentalness': 0, 'liveness': 0.109, 'valence': 0.637, 'tempo': 94.921, 'type': 'audio_features', 'id': '0jaHnvdrguukJipydAJWq2', 'uri': 'spotify:track:0jaHnvdrguukJipydAJWq2', 'track_href': 'https://api.spotify.com/v1/tracks/0jaHnvdrguukJipydAJWq2', 'analysis_url': 'https://api.spotify.com/v1/audio-analysis/0jaHnvdrguukJipydAJWq2', 'duration_ms': 182646, 'time_signature': 4}]\n",
      "DIE 4 YOU\n",
      "[{'danceability': 0.411, 'energy': 0.359, 'key': 6, 'loudness': -9.928, 'mode': 0, 'speechiness': 0.0592, 'acousticness': 0.802, 'instrumentalness': 1.24e-05, 'liveness': 0.104, 'valence': 0.277, 'tempo': 82.631, 'type': 'audio_features', 'id': '7yZD4AVfQtAZD4cG8eRnPk', 'uri': 'spotify:track:7yZD4AVfQtAZD4cG8eRnPk', 'track_href': 'https://api.spotify.com/v1/tracks/7yZD4AVfQtAZD4cG8eRnPk', 'analysis_url': 'https://api.spotify.com/v1/audio-analysis/7yZD4AVfQtAZD4cG8eRnPk', 'duration_ms': 194046, 'time_signature': 4}]\n",
      "Make Up (Feat. Crush)\n",
      "[{'danceability': 0.698, 'energy': 0.497, 'key': 0, 'loudness': -6.606, 'mode': 1, 'speechiness': 0.0825, 'acousticness': 0.502, 'instrumentalness': 0, 'liveness': 0.0918, 'valence': 0.646, 'tempo': 124.942, 'type': 'audio_features', 'id': '19zsSUEuJNzNA6eqInqyF9', 'uri': 'spotify:track:19zsSUEuJNzNA6eqInqyF9', 'track_href': 'https://api.spotify.com/v1/tracks/19zsSUEuJNzNA6eqInqyF9', 'analysis_url': 'https://api.spotify.com/v1/audio-analysis/19zsSUEuJNzNA6eqInqyF9', 'duration_ms': 207493, 'time_signature': 4}]\n",
      "26\n",
      "[{'danceability': 0.446, 'energy': 0.937, 'key': 5, 'loudness': -3.029, 'mode': 1, 'speechiness': 0.201, 'acousticness': 0.00426, 'instrumentalness': 1.51e-06, 'liveness': 0.0729, 'valence': 0.38, 'tempo': 92.038, 'type': 'audio_features', 'id': '0JaNPpjNmQkjWEO2BKnY85', 'uri': 'spotify:track:0JaNPpjNmQkjWEO2BKnY85', 'track_href': 'https://api.spotify.com/v1/tracks/0JaNPpjNmQkjWEO2BKnY85', 'analysis_url': 'https://api.spotify.com/v1/audio-analysis/0JaNPpjNmQkjWEO2BKnY85', 'duration_ms': 199240, 'time_signature': 4}]\n",
      "{'danceability': [0.734, 0.701, 0.712, 0.822, 0.512, 0.523, 0.759, 0.752, 0.665, 0.62, 0.785, 0.726, 0.629, 0.651, 0.683, 0.767, 0.738, 0.748, 0.669, 0.496, 0.68, 0.684, 0.729, 0.662, 0.779, 0.62, 0.675, 0.622, 0.844, 0.406, 0.54, 0.677, 0.508, 0.652, 0.587, 0.779, 0.411, 0.698, 0.446], 'energy': [0.649, 0.602, 0.255, 0.781, 0.765, 0.539, 0.498, 0.57, 0.185, 0.783, 0.679, 0.492, 0.41, 0.332, 0.714, 0.779, 0.89, 0.511, 0.71, 0.447, 0.623, 0.693, 0.541, 0.293, 0.392, 0.616, 0.351, 0.604, 0.734, 0.492, 0.353, 0.479, 0.302, 0.77, 0.506, 0.298, 0.359, 0.497, 0.937], 'key': [7, 8, 5, 0, 7, 6, 2, 4, 0, 7, 0, 10, 11, 3, 0, 1, 2, 11, 2, 0, 1, 1, 5, 4, 4, 4, 7, 6, 8, 4, 9, 5, 0, 11, 10, 2, 6, 0, 5], 'loudness': [-4.346, -6.83, -8.8, -5.27, -5.252, -7.772, -6.566, -8.034, -11.61, -4.001, -4.907, -8.046, -7.606, -9.491, -4.94, -4.483, -2.275, -4.791, -2.337, -5.878, -2.695, -5.481, -6.091, -11.311, -4.135, -5.623, -7.19, -6.731, -5.213, -6.837, -5.224, -8.638, -9.103, -5.289, -7.694, -6.462, -9.928, -6.606, -3.029], 'mode': [0, 1, 1, 1, 1, 1, 0, 1, 1, 0, 1, 0, 0, 1, 1, 1, 0, 0, 1, 1, 1, 1, 1, 1, 1, 0, 1, 1, 1, 1, 1, 0, 1, 1, 0, 0, 0, 1, 1], 'speechiness': [0.128, 0.031, 0.0373, 0.0338, 0.136, 0.0534, 0.0353, 0.0488, 0.0463, 0.0731, 0.0379, 0.0794, 0.286, 0.0815, 0.0686, 0.0791, 0.0748, 0.0768, 0.0396, 0.0317, 0.0467, 0.154, 0.238, 0.124, 0.0482, 0.103, 0.154, 0.145, 0.205, 0.0303, 0.0258, 0.0398, 0.0379, 0.167, 0.15, 0.0312, 0.0592, 0.0825, 0.201], 'acousticness': [0.286, 0.63, 0.955, 0.0188, 0.246, 0.532, 0.35, 0.338, 0.874, 0.101, 0.516, 0.566, 0.22, 0.9, 0.168, 0.0321, 0.0895, 0.442, 0.0294, 0.82, 0.825, 0.255, 0.261, 0.494, 0.658, 0.493, 0.715, 0.419, 0.0297, 0.671, 0.332, 0.566, 0.813, 0.468, 0.188, 0.221, 0.802, 0.502, 0.00426], 'instrumentalness': [5.37e-06, 0, 3.51e-06, 0, 0, 0, 0.00014, 0, 0, 0, 0, 8.14e-06, 0.00318, 0, 2.56e-05, 0, 1.89e-06, 2.15e-06, 0, 0, 0, 0, 0, 5.16e-06, 0, 0, 0, 0, 0, 0, 0, 0, 1.09e-06, 0, 0, 0, 1.24e-05, 0, 1.51e-06], 'liveness': [0.0923, 0.154, 0.108, 0.0943, 0.0573, 0.224, 0.103, 0.293, 0.326, 0.252, 0.417, 0.257, 0.144, 0.377, 0.121, 0.287, 0.213, 0.108, 0.322, 0.098, 0.128, 0.267, 0.456, 0.109, 0.0958, 0.133, 0.146, 0.122, 0.034, 0.0992, 0.145, 0.118, 0.109, 0.318, 0.0611, 0.109, 0.104, 0.0918, 0.0729], 'valence': [0.378, 0.708, 0.37, 0.717, 0.519, 0.355, 0.487, 0.41, 0.327, 0.298, 0.616, 0.526, 0.907, 0.465, 0.661, 0.482, 0.75, 0.476, 0.161, 0.315, 0.428, 0.55, 0.715, 0.297, 0.708, 0.468, 0.199, 0.698, 0.444, 0.279, 0.137, 0.443, 0.255, 0.78, 0.459, 0.637, 0.277, 0.646, 0.38], 'tempo': [124.987, 137.021, 125.973, 127.028, 169.709, 75.04, 129.968, 133.018, 123.623, 140.02, 121.121, 85.939, 79.936, 82.896, 140.075, 140.089, 114.942, 88.012, 82.009, 101.132, 79.968, 82.503, 86.917, 91.154, 89.929, 84.993, 60.125, 89.483, 109.994, 91.241, 137.859, 109.888, 126.799, 142.896, 169.971, 94.921, 82.631, 124.942, 92.038], 'duration_ms': [123120, 200147, 190507, 168280, 229360, 181080, 163907, 197292, 157387, 223173, 156355, 207113, 160150, 187439, 126947, 196133, 214253, 177465, 176539, 271080, 201772, 203267, 180500, 161618, 140867, 176747, 258000, 216280, 162587, 238267, 250573, 229576, 235920, 230769, 160105, 182646, 194046, 207493, 199240], 'time_signature': [4, 4, 4, 4, 4, 4, 4, 4, 4, 4, 4, 4, 4, 4, 4, 4, 4, 4, 4, 4, 4, 4, 4, 4, 4, 4, 4, 4, 4, 4, 4, 4, 4, 4, 4, 4, 4, 4, 4]}\n",
      "13\n"
     ]
    },
    {
     "data": {
      "text/plain": [
       "'for i, item in enumerate(results[\\'items\\']):\\n    print(\"%d %s\" % (i, item[\\'name\\']))'"
      ]
     },
     "execution_count": 111,
     "metadata": {},
     "output_type": "execute_result"
    }
   ],
   "source": [
    "#트랙 아이디 가져오기\n",
    "import spotipy\n",
    "from spotipy.oauth2 import SpotifyOAuth\n",
    "import pprint\n",
    "cid = '18cdef91f9364a598c79c8ef4c462ec6'\n",
    "secret = 'ebc03782bb704874938494926ed0fc05'\n",
    "scope = 'user-read-recently-played'\n",
    "redirect_uri = 'http://localhost:3000'\n",
    "sp = spotipy.Spotify(auth_manager=SpotifyOAuth(client_id= cid, client_secret= secret, redirect_uri= redirect_uri, scope=scope))\n",
    "\n",
    "results = sp.current_user_recently_played(limit=50)\n",
    "audio = {}\n",
    "audio_columns = []\n",
    "for i in range(len(results['items'])):\n",
    "    audio_feat=sp.audio_features(results['items'][i]['track']['id'])\n",
    "    audio_name = results['items'][i]['track']['name']\n",
    "    if audio_name in audio_columns:\n",
    "        continue\n",
    "    else:\n",
    "        audio_columns.append(audio_name)\n",
    "        for key, value in audio_feat[0].items():\n",
    "            if type(value) is not str:\n",
    "                if key in audio:\n",
    "                    audio[key].append(value)\n",
    "                else:\n",
    "                    audio[key] = [value]\n",
    "\n",
    "    print(results['items'][i]['track']['name'])\n",
    "    print(audio_feat)\n",
    "\n",
    "feature_element = ['danceability', 'energy', 'key', 'loudness' ,'mode' ,'speechiness', 'acousticness', 'instrumentalness', 'liveness' ,'valence' ,'tempo', 'del1', 'del2']\n",
    "print(audio)\n",
    "\n",
    "\n",
    "'''for i, item in enumerate(results['items']):\n",
    "    print(\"%d %s\" % (i, item['name']))'''"
   ]
  },
  {
   "cell_type": "code",
   "execution_count": 115,
   "metadata": {},
   "outputs": [
    {
     "name": "stdout",
     "output_type": "stream",
     "text": [
      "39\n",
      "39\n",
      "13\n"
     ]
    }
   ],
   "source": [
    "print(len(audio['danceability']))\n",
    "print(len(audio_columns))\n",
    "print(len(feature_element))"
   ]
  },
  {
   "cell_type": "code",
   "execution_count": 125,
   "metadata": {},
   "outputs": [],
   "source": [
    "import pandas as pd\n",
    "from pandas import Series\n",
    "from pandas import DataFrame as df\n",
    "\n",
    "feature_element = ['danceability', 'energy', 'key', 'loudness' ,'mode' ,'speechiness', 'acousticness', 'instrumentalness', 'liveness' ,'valence' ,'tempo', 'del1', 'del2']\n",
    "audio_Dataframe = df(audio, columns = feature_element, index = audio_columns)"
   ]
  },
  {
   "cell_type": "code",
   "execution_count": 133,
   "metadata": {},
   "outputs": [],
   "source": [
    "audio_Dataframe = audio_Dataframe.drop(columns= ['del1', 'del2'], axis = 1)"
   ]
  },
  {
   "cell_type": "code",
   "execution_count": 134,
   "metadata": {},
   "outputs": [
    {
     "name": "stdout",
     "output_type": "stream",
     "text": [
      "<class 'pandas.core.frame.DataFrame'>\n",
      "Index: 39 entries, Dillis to 26\n",
      "Data columns (total 11 columns):\n",
      " #   Column            Non-Null Count  Dtype  \n",
      "---  ------            --------------  -----  \n",
      " 0   danceability      39 non-null     float64\n",
      " 1   energy            39 non-null     float64\n",
      " 2   key               39 non-null     int64  \n",
      " 3   loudness          39 non-null     float64\n",
      " 4   mode              39 non-null     int64  \n",
      " 5   speechiness       39 non-null     float64\n",
      " 6   acousticness      39 non-null     float64\n",
      " 7   instrumentalness  39 non-null     float64\n",
      " 8   liveness          39 non-null     float64\n",
      " 9   valence           39 non-null     float64\n",
      " 10  tempo             39 non-null     float64\n",
      "dtypes: float64(9), int64(2)\n",
      "memory usage: 3.7+ KB\n",
      "None\n"
     ]
    }
   ],
   "source": [
    "print(audio_Dataframe.info())\n"
   ]
  },
  {
   "cell_type": "code",
   "execution_count": 135,
   "metadata": {},
   "outputs": [],
   "source": [
    "audio_Dataframe.to_csv('./audio_features2.csv')"
   ]
  },
  {
   "cell_type": "code",
   "execution_count": null,
   "metadata": {},
   "outputs": [],
   "source": [
    "# 음악 특성 분석\n",
    "import spotipy\n",
    "from spotipy.oauth2 import SpotifyOAuth\n",
    "import pprint\n",
    "cid = '18cdef91f9364a598c79c8ef4c462ec6'\n",
    "secret = 'ebc03782bb704874938494926ed0fc05'\n",
    "scope = 'playlist-read-private'\n",
    "redirect_uri = 'http://localhost:3000'\n",
    "sp = spotipy.Spotify(auth_manager=SpotifyOAuth(client_id= cid, client_secret= secret, redirect_uri= redirect_uri, scope=scope))\n",
    "\n",
    "results = sp.audio_features(tracks = ['1sEO3COhUlmYx3e4W6wnND'])\n",
    "print(results)\n",
    "'''for i, item in enumerate(results['items']):\n",
    "    print(\"%d %s\" % (i, item['name']))'''"
   ]
  },
  {
   "cell_type": "code",
   "execution_count": null,
   "metadata": {},
   "outputs": [],
   "source": [
    "import requests\n",
    "import base64\n",
    "\n",
    "import json\n",
    "\n",
    "client_id = \"18cdef91f9364a598c79c8ef4c462ec6\"\n",
    "client_secret = \"ebc03782bb704874938494926ed0fc05\"\n",
    "endpoint = \"https://accounts.spotify.com/api/token\"\n",
    "\n",
    "# python 3.x 버전\n",
    "encoded = base64.b64encode(\"{}:{}\".format(client_id, client_secret).encode('utf-8')).decode('ascii')\n",
    "# python 2.x 버전\n",
    "#encoded = base64.b64encode(\"{}:{}\".format(client_id, client_secret))\n",
    "\n",
    "\n",
    "headers = {\"Authorization\": \"Basic {}\".format(encoded)}\n",
    "\n",
    "payload = {\"grant_type\": \"client_credentials\"}\n",
    "\n",
    "response = requests.post(endpoint, data=payload, headers=headers)\n",
    "\n",
    "access_token = json.loads(response.text)['access_token']\n",
    "headers = {\"Authorization\": \"Bearer {}\".format(access_token)} \n",
    "print(headers)"
   ]
  },
  {
   "cell_type": "code",
   "execution_count": null,
   "metadata": {},
   "outputs": [],
   "source": [
    "redirect_ur = 'http://localhost:3000'\n",
    "client_id = \"18cdef91f9364a598c79c8ef4c462ec6\"\n",
    "client_secret = \"ebc03782bb704874938494926ed0fc05\"\n",
    "endpoint = \"https://accounts.spotify.com/authorize\"\n",
    "response_type = 'code'\n",
    "scope = 'playlist-read-private'\n",
    "playlist = requests.get(\"https://api.spotify.com/v1/me\", headers= headers, redirect_uri = redirect_uri,  )\n"
   ]
  }
 ],
 "metadata": {
  "kernelspec": {
   "display_name": "base",
   "language": "python",
   "name": "python3"
  },
  "language_info": {
   "codemirror_mode": {
    "name": "ipython",
    "version": 3
   },
   "file_extension": ".py",
   "mimetype": "text/x-python",
   "name": "python",
   "nbconvert_exporter": "python",
   "pygments_lexer": "ipython3",
   "version": "3.11.5"
  }
 },
 "nbformat": 4,
 "nbformat_minor": 2
}
