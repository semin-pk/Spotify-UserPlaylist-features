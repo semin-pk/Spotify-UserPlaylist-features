{
 "cells": [
  {
   "cell_type": "code",
   "execution_count": null,
   "metadata": {},
   "outputs": [],
   "source": [
    "pip install spotipy\n"
   ]
  },
  {
   "cell_type": "code",
   "execution_count": null,
   "metadata": {},
   "outputs": [],
   "source": [
    "import spotipy\n",
    "from spotipy.oauth2 import SpotifyOAuth\n",
    "\n",
    "scope = \"user-library-read\"\n",
    "\n",
    "sp = spotipy.Spotify(auth_manager=SpotifyOAuth())\n",
    "\n",
    "results = sp.current_user_saved_tracks()\n",
    "for idx, item in enumerate(results['items']):\n",
    "    track = item['track']\n",
    "    print(idx, track['artists'][0]['name'], \" - \", track['name'])"
   ]
  },
  {
   "cell_type": "code",
   "execution_count": null,
   "metadata": {},
   "outputs": [],
   "source": [
    "import spotipy\n",
    "from spotipy.oauth2 import SpotifyClientCredentials\n",
    "import pprint\n",
    "\n",
    "cid = '18cdef91f9364a598c79c8ef4c462ec6'\n",
    "secret = 'ebc03782bb704874938494926ed0fc05'\n",
    "client_credentials_manager = SpotifyClientCredentials(client_id = cid, client_secret = secret)\n",
    "sp = spotipy.Spotify(client_credentials_manager = client_credentials_manager)\n",
    "print(sp.current_user())"
   ]
  },
  {
   "cell_type": "code",
   "execution_count": null,
   "metadata": {},
   "outputs": [],
   "source": [
    "help(sp.current_user)"
   ]
  },
  {
   "cell_type": "code",
   "execution_count": null,
   "metadata": {},
   "outputs": [],
   "source": [
    "# shows audio analysis for the given track\n",
    "\n",
    "from __future__ import print_function    # (at top of module)\n",
    "from spotipy.oauth2 import SpotifyClientCredentials\n",
    "import json\n",
    "import spotipy\n",
    "import time\n",
    "import sys\n",
    "\n",
    "\n",
    "client_credentials_manager = SpotifyClientCredentials(client_id = cid, client_secret = secret)\n",
    "sp = spotipy.Spotify(client_credentials_manager=client_credentials_manager)\n",
    "\n",
    "if len(sys.argv) > 1:\n",
    "    tid = sys.argv[1]\n",
    "else:\n",
    "    tid = 'spotify:track:18cdef91f9364a598c79c8ef4c462ec6'\n",
    "\n",
    "start = time.time()\n",
    "analysis = sp.audio_analysis(tid)\n",
    "delta = time.time() - start\n",
    "print(json.dumps(analysis, indent=4))\n",
    "print(\"analysis retrieved in %.2f seconds\" % (delta,))"
   ]
  },
  {
   "cell_type": "code",
   "execution_count": null,
   "metadata": {},
   "outputs": [],
   "source": [
    "import spotipy\n",
    "from spotipy.oauth2 import SpotifyOAuth\n",
    "\n",
    "scope = 'playlist-read-private'\n",
    "sp = spotipy.Spotify(auth_manager=SpotifyOAuth(scope=scope))\n",
    "\n",
    "results = sp.current_user_playlists(limit=50)\n",
    "for i, item in enumerate(results['items']):\n",
    "    print(\"%d %s\" % (i, item['name']))"
   ]
  },
  {
   "cell_type": "code",
   "execution_count": 5,
   "metadata": {},
   "outputs": [],
   "source": [
    "import requests\n",
    "import base64\n",
    "\n",
    "import json\n",
    "\n",
    "client_id = \"18cdef91f9364a598c79c8ef4c462ec6\"\n",
    "client_secret = \"ebc03782bb704874938494926ed0fc05\"\n",
    "endpoint = \"https://accounts.spotify.com/api/token\"\n",
    "\n",
    "# python 3.x 버전\n",
    "encoded = base64.b64encode(\"{}:{}\".format(client_id, client_secret).encode('utf-8')).decode('ascii')\n",
    "# python 2.x 버전\n",
    "#encoded = base64.b64encode(\"{}:{}\".format(client_id, client_secret))\n",
    "\n",
    "\n",
    "headers = {\"Authorization\": \"Basic {}\".format(encoded)}\n",
    "\n",
    "payload = {\"grant_type\": \"client_credentials\"}\n",
    "\n",
    "response = requests.post(endpoint, data=payload, headers=headers)\n",
    "\n",
    "access_token = json.loads(response.text)['access_token']\n",
    "headers = {\"Authorization\": \"Bearer {}\".format(access_token)} "
   ]
  },
  {
   "cell_type": "code",
   "execution_count": 11,
   "metadata": {},
   "outputs": [],
   "source": [
    "playlist = requests.get(\"https://api.spotify.com/v1/me\", headers= headers)\n"
   ]
  },
  {
   "cell_type": "code",
   "execution_count": 12,
   "metadata": {},
   "outputs": [
    {
     "name": "stdout",
     "output_type": "stream",
     "text": [
      "<Response [401]>\n"
     ]
    }
   ],
   "source": [
    "print(playlist)"
   ]
  },
  {
   "cell_type": "code",
   "execution_count": 13,
   "metadata": {},
   "outputs": [
    {
     "name": "stdout",
     "output_type": "stream",
     "text": [
      "{\n",
      "  \"artists\" : {\n",
      "    \"href\" : \"https://api.spotify.com/v1/search?query=BTS&type=artist&offset=0&limit=1\",\n",
      "    \"items\" : [ {\n",
      "      \"external_urls\" : {\n",
      "        \"spotify\" : \"https://open.spotify.com/artist/3Nrfpe0tUJi4K4DXYWgMUX\"\n",
      "      },\n",
      "      \"followers\" : {\n",
      "        \"href\" : null,\n",
      "        \"total\" : 72140505\n",
      "      },\n",
      "      \"genres\" : [ \"k-pop\", \"k-pop boy group\", \"pop\" ],\n",
      "      \"href\" : \"https://api.spotify.com/v1/artists/3Nrfpe0tUJi4K4DXYWgMUX\",\n",
      "      \"id\" : \"3Nrfpe0tUJi4K4DXYWgMUX\",\n",
      "      \"images\" : [ {\n",
      "        \"height\" : 640,\n",
      "        \"url\" : \"https://i.scdn.co/image/ab6761610000e5ebd642648235ebf3460d2d1f6a\",\n",
      "        \"width\" : 640\n",
      "      }, {\n",
      "        \"height\" : 320,\n",
      "        \"url\" : \"https://i.scdn.co/image/ab67616100005174d642648235ebf3460d2d1f6a\",\n",
      "        \"width\" : 320\n",
      "      }, {\n",
      "        \"height\" : 160,\n",
      "        \"url\" : \"https://i.scdn.co/image/ab6761610000f178d642648235ebf3460d2d1f6a\",\n",
      "        \"width\" : 160\n",
      "      } ],\n",
      "      \"name\" : \"BTS\",\n",
      "      \"popularity\" : 87,\n",
      "      \"type\" : \"artist\",\n",
      "      \"uri\" : \"spotify:artist:3Nrfpe0tUJi4K4DXYWgMUX\"\n",
      "    } ],\n",
      "    \"limit\" : 1,\n",
      "    \"next\" : \"https://api.spotify.com/v1/search?query=BTS&type=artist&offset=1&limit=1\",\n",
      "    \"offset\" : 0,\n",
      "    \"previous\" : null,\n",
      "    \"total\" : 2\n",
      "  }\n",
      "}\n",
      "200\n",
      "{'content-type': 'application/json; charset=utf-8', 'cache-control': 'public, max-age=7200', 'x-robots-tag': 'noindex, nofollow', 'access-control-allow-origin': '*', 'access-control-allow-headers': 'Accept, App-Platform, Authorization, Content-Type, Origin, Retry-After, Spotify-App-Version, X-Cloud-Trace-Context, client-token, content-access-token', 'access-control-allow-methods': 'GET, POST, OPTIONS, PUT, DELETE, PATCH', 'access-control-allow-credentials': 'true', 'access-control-max-age': '604800', 'content-encoding': 'gzip', 'strict-transport-security': 'max-age=31536000', 'x-content-type-options': 'nosniff', 'date': 'Sun, 31 Mar 2024 14:06:48 GMT', 'server': 'envoy', 'Via': 'HTTP/2 edgeproxy, 1.1 google', 'Alt-Svc': 'h3=\":443\"; ma=2592000,h3-29=\":443\"; ma=2592000', 'Transfer-Encoding': 'chunked'}\n",
      "{'external_urls': {'spotify': 'https://open.spotify.com/artist/3Nrfpe0tUJi4K4DXYWgMUX'}, 'followers': {'href': None, 'total': 72140505}, 'genres': ['k-pop', 'k-pop boy group', 'pop'], 'href': 'https://api.spotify.com/v1/artists/3Nrfpe0tUJi4K4DXYWgMUX', 'id': '3Nrfpe0tUJi4K4DXYWgMUX', 'images': [{'height': 640, 'url': 'https://i.scdn.co/image/ab6761610000e5ebd642648235ebf3460d2d1f6a', 'width': 640}, {'height': 320, 'url': 'https://i.scdn.co/image/ab67616100005174d642648235ebf3460d2d1f6a', 'width': 320}, {'height': 160, 'url': 'https://i.scdn.co/image/ab6761610000f178d642648235ebf3460d2d1f6a', 'width': 160}], 'name': 'BTS', 'popularity': 87, 'type': 'artist', 'uri': 'spotify:artist:3Nrfpe0tUJi4K4DXYWgMUX'}\n",
      "followers: 72140505\n",
      "genres: ['k-pop', 'k-pop boy group', 'pop']\n",
      "href: https://api.spotify.com/v1/artists/3Nrfpe0tUJi4K4DXYWgMUX\n"
     ]
    }
   ],
   "source": [
    "params = {\n",
    "    \"q\": \"BTS\",\n",
    "    \"type\": \"artist\",\n",
    "    \"limit\": \"1\"\n",
    "}\n",
    "\n",
    "r = requests.get(\"https://api.spotify.com/v1/search\", params=params, headers=headers)\n",
    "\n",
    "print(r.text)\n",
    "print(r.status_code)\n",
    "print(r.headers)\n",
    "\n",
    "raw = json.loads(r.text)\n",
    "artist_raw = raw['artists']['items'][0]\n",
    "print(artist_raw)\n",
    "\n",
    "followers = artist_raw['followers']['total']\n",
    "genres = artist_raw['genres']\n",
    "href = artist_raw['href']\n",
    "\n",
    "print(\"followers: \" + str(followers))\n",
    "print(\"genres: \" + str(genres))\n",
    "print(\"href: \" + str(href))"
   ]
  }
 ],
 "metadata": {
  "kernelspec": {
   "display_name": "base",
   "language": "python",
   "name": "python3"
  },
  "language_info": {
   "codemirror_mode": {
    "name": "ipython",
    "version": 3
   },
   "file_extension": ".py",
   "mimetype": "text/x-python",
   "name": "python",
   "nbconvert_exporter": "python",
   "pygments_lexer": "ipython3",
   "version": "3.10.9"
  }
 },
 "nbformat": 4,
 "nbformat_minor": 2
}
